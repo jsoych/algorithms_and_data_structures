{
 "cells": [
  {
   "cell_type": "markdown",
   "metadata": {},
   "source": [
    "# Practice Interview\n",
    "\n",
    "## Objective\n",
    "\n",
    "_*The partner assignment aims to provide participants with the opportunity to practice coding in an interview context. You will analyze your partner's Assignment 1. Moreover, code reviews are common practice in a software development team. This assignment should give you a taste of the code review process.*_\n",
    "\n",
    "## Group Size\n",
    "\n",
    "Each group should have 2 people. You will be assigned a partner\n",
    "\n",
    "## Part 1:\n",
    "\n",
    "You and your partner must share each other's Assignment 1 submission."
   ]
  },
  {
   "cell_type": "markdown",
   "metadata": {},
   "source": [
    "\n",
    "## Part 2:\n",
    "\n",
    "Create a Jupyter Notebook, create 6 of the following headings, and complete the following for your partner's assignment 1:\n",
    "\n",
    "-   Paraphrase the problem in your own words.\n"
   ]
  },
  {
   "cell_type": "markdown",
   "metadata": {},
   "source": [
    "Suppose you have a list $l$ of $n$ itegers such that each element in your list is in the set $\\{0,1,2,\\dots,n-1,n\\}$. Define a function `missing_num` that takes $l$ and returns a list of all the missing integers, otherwise -1. For example, if $l = [1,2,2,1,5]$, then `missing_num(l)` returns $[0,3,4]$."
   ]
  },
  {
   "cell_type": "markdown",
   "metadata": {},
   "source": [
    "\n",
    "-   Create 1 new example that demonstrates you understand the problem. Trace/walkthrough 1 example that your partner made and explain it.\n"
   ]
  },
  {
   "cell_type": "markdown",
   "metadata": {},
   "source": [
    "Consider the following examples:\n",
    "\n",
    "- If $l = [1,3,4,4,4,4]$, then `missing_num(l)` returns $[0,2,5,6]$.\n",
    "- If $l = [2,3,6,5,7,1,4]$, then `missing_num(l)` returns $[0]$."
   ]
  },
  {
   "cell_type": "markdown",
   "metadata": {},
   "source": [
    "\n",
    "-   Copy the solution your partner wrote. \n"
   ]
  },
  {
   "cell_type": "code",
   "execution_count": 1,
   "metadata": {},
   "outputs": [],
   "source": [
    "def missing_num(nums: list) -> int:\n",
    "    # Get max element \n",
    "    max_el = max(nums)\n",
    "    # Build set from range\n",
    "    range_set = set(range(max_el + 1))\n",
    "    # Get set of unique elements\n",
    "    unique_elements_set = set(nums)\n",
    "            \n",
    "    # Find the difference between the full range set and the set created from the list\n",
    "    missing_elements = range_set - unique_elements_set\n",
    "    \n",
    "    # If there are no missing numbers, return -1\n",
    "    if not missing_elements:\n",
    "        return -1\n",
    "    else:\n",
    "        return sorted(list(missing_elements))"
   ]
  },
  {
   "cell_type": "markdown",
   "metadata": {},
   "source": [
    "\n",
    "-   Explain why their solution works in your own words.\n"
   ]
  },
  {
   "cell_type": "markdown",
   "metadata": {},
   "source": [
    "Unfortunately, my partner's solutions doesn't work for all examples. Consider the following counter example.\n",
    "\n",
    "If $l = [1,1]$, then `missing_num(l)` returns `[0]`. The correct return value is `[0,2]`."
   ]
  },
  {
   "cell_type": "markdown",
   "metadata": {},
   "source": [
    "\n",
    "-   Explain the problem’s time and space complexity in your own words.\n"
   ]
  },
  {
   "cell_type": "markdown",
   "metadata": {},
   "source": [
    "The runtime is $O(nlog(n))$, since `sorted` is called on a list with at most $n-1$ in any order. The space complexity is that of `sorted` (i think Timsort space complexity is $O(n)$)."
   ]
  },
  {
   "cell_type": "markdown",
   "metadata": {},
   "source": [
    "\n",
    "-   Critique your partner's solution, including explanation, and if there is anything that should be adjusted.\n"
   ]
  },
  {
   "cell_type": "code",
   "execution_count": null,
   "metadata": {},
   "outputs": [],
   "source": [
    "def missing_num(nums: list) -> int:\n",
    "    # Get max element \n",
    "    \"\"\"\n",
    "    The following is only line that needed to be changed\n",
    "    max_el = max(nums)\n",
    "    I've included the needed change\n",
    "    \"\"\"\n",
    "    max_el = len(nums)\n",
    "    # Build set from range\n",
    "    range_set = set(range(max_el + 1))\n",
    "    # Get set of unique elements\n",
    "    unique_elements_set = set(nums)\n",
    "            \n",
    "    # Find the difference between the full range set and the set created from the list\n",
    "    missing_elements = range_set - unique_elements_set\n",
    "    \n",
    "    # If there are no missing numbers, return -1\n",
    "    if not missing_elements:\n",
    "        return -1\n",
    "    else:\n",
    "        \"\"\"\n",
    "        Also, the problem doesn't need the returned list to be sorted, hence,\n",
    "        we can just return missing_elements aftering casting it a list. Thus,\n",
    "        reducing the runtime complexity to O(n).\n",
    "        \"\"\"\n",
    "        return list(missing_elements)"
   ]
  },
  {
   "cell_type": "markdown",
   "metadata": {},
   "source": [
    "\n",
    "## Part 3:\n",
    "\n",
    "Please write a 200 word reflection documenting your process from assignment 1, and your presentation and review experience with your partner at the bottom of the Jupyter Notebook under a new heading \"Reflection.\" Again, export this Notebook as pdf.\n"
   ]
  },
  {
   "cell_type": "markdown",
   "metadata": {},
   "source": [
    "### Reflection"
   ]
  },
  {
   "cell_type": "markdown",
   "metadata": {},
   "source": [
    "Since my partner wrote very readible code, it was quite easy to spot a mistake and make the needed correction. Lastly, our function will always return a list, since a list of $n$ integers will never include all the numbers from $\\{0,1,2,\\dots,n-1,n\\}$."
   ]
  },
  {
   "cell_type": "markdown",
   "metadata": {},
   "source": [
    "\n",
    "## Evaluation Criteria\n",
    "\n",
    "We are looking for the similar points as Assignment 1\n",
    "\n",
    "-   Problem is accurately stated\n",
    "\n",
    "-   New example is correct and easily understandable\n",
    "\n",
    "-   Correctness, time, and space complexity of the coding solution\n",
    "\n",
    "-   Clarity in explaining why the solution works, its time and space complexity\n",
    "\n",
    "-   Quality of critique of your partner's assignment, if necessary\n"
   ]
  },
  {
   "cell_type": "markdown",
   "metadata": {},
   "source": [
    "## Submission Information\n",
    "\n",
    "🚨 **Please review our [Assignment Submission Guide](https://github.com/UofT-DSI/onboarding/blob/main/onboarding_documents/submissions.md)** 🚨 for detailed instructions on how to format, branch, and submit your work. Following these guidelines is crucial for your submissions to be evaluated correctly.\n",
    "\n",
    "### Submission Parameters:\n",
    "* Submission Due Date: `HH:MM AM/PM - DD/MM/YYYY`\n",
    "* The branch name for your repo should be: `assignment-2`\n",
    "* What to submit for this assignment:\n",
    "    * This Jupyter Notebook (assignment_2.ipynb) should be populated and should be the only change in your pull request.\n",
    "* What the pull request link should look like for this assignment: `https://github.com/<your_github_username>/algorithms_and_data_structures/pull/<pr_id>`\n",
    "    * Open a private window in your browser. Copy and paste the link to your pull request into the address bar. Make sure you can see your pull request properly. This helps the technical facilitator and learning support staff review your submission easily.\n",
    "\n",
    "Checklist:\n",
    "- [ ] Created a branch with the correct naming convention.\n",
    "- [ ] Ensured that the repository is public.\n",
    "- [ ] Reviewed the PR description guidelines and adhered to them.\n",
    "- [ ] Verify that the link is accessible in a private browser window.\n",
    "\n",
    "If you encounter any difficulties or have questions, please don't hesitate to reach out to our team via our Slack at `#cohort-3-help`. Our Technical Facilitators and Learning Support staff are here to help you navigate any challenges.\n"
   ]
  }
 ],
 "metadata": {
  "kernelspec": {
   "display_name": "DSI",
   "language": "python",
   "name": "python3"
  },
  "language_info": {
   "codemirror_mode": {
    "name": "ipython",
    "version": 3
   },
   "file_extension": ".py",
   "mimetype": "text/x-python",
   "name": "python",
   "nbconvert_exporter": "python",
   "pygments_lexer": "ipython3",
   "version": "3.12.3"
  }
 },
 "nbformat": 4,
 "nbformat_minor": 2
}
